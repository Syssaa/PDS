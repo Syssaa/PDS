{
  "nbformat": 4,
  "nbformat_minor": 0,
  "metadata": {
    "colab": {
      "provenance": []
    },
    "kernelspec": {
      "name": "python3",
      "display_name": "Python 3"
    },
    "language_info": {
      "name": "python"
    }
  },
  "cells": [
    {
      "cell_type": "code",
      "source": [
        "import cv2\n",
        "import numpy as np\n",
        "import os\n",
        "\n",
        "class ImageIndexer:\n",
        "    def __init__(self, image_dir, vector_size):\n",
        "        self.image_dir = image_dir\n",
        "        self.vector_size = vector_size\n",
        "    \n",
        "    def get_image_paths(self):\n",
        "        return [os.path.join(self.image_dir, f) for f in os.listdir(self.image_dir)]\n",
        "    \n",
        "    def process_image(self, path):\n",
        "        # Lire l'image en couleur\n",
        "        img = cv2.imread(path)\n",
        "        \n",
        "        # Convertir l'image en niveaux de gris\n",
        "        gray = cv2.cvtColor(img, cv2.COLOR_BGR2GRAY)\n",
        "        \n",
        "        # Redimensionner l'image en un vecteur de taille fixe\n",
        "        resized = cv2.resize(gray, (self.vector_size, self.vector_size))\n",
        "        vector = resized.reshape((1, -1))\n",
        "        \n",
        "        return vector\n",
        "    \n",
        "    def index_images(self):\n",
        "        # Obtenir les chemins de toutes les images dans une liste\n",
        "        paths = self.get_image_paths()\n",
        "        \n",
        "        # Initialiser une liste pour stocker les vecteurs d'images\n",
        "        vectors = []\n",
        "        \n",
        "        # Boucler sur chaque image et extraire son vecteur\n",
        "        for path in paths:\n",
        "            vector = self.process_image(path)\n",
        "            vectors.append(vector)\n",
        "        \n",
        "        # Concaténer tous les vecteurs pour créer une matrice\n",
        "        matrix = np.concatenate(vectors, axis=0)\n",
        "        \n",
        "        return matrix\n"
      ],
      "metadata": {
        "id": "FumKM-Gn2DQX"
      },
      "execution_count": 3,
      "outputs": []
    },
    {
      "cell_type": "code",
      "source": [],
      "metadata": {
        "id": "eh5nKa90Qzxg"
      },
      "execution_count": 2,
      "outputs": []
    }
  ]
}