{
  "cells": [
    {
      "cell_type": "code",
      "execution_count": 8,
      "metadata": {
        "id": "40yxofdQ--j7"
      },
      "outputs": [],
      "source": [
        "# importation des librairies\n",
        "import pandas as pd\n",
        "import datetime as datetime\n",
        "from sklearn.preprocessing import OneHotEncoder\n",
        "import numpy as np\n",
        "import os\n"
      ]
    },
    {
      "cell_type": "code",
      "execution_count": null,
      "metadata": {
        "id": "URWG2wCcUDsK"
      },
      "outputs": [],
      "source": [
        "# chemin de fichier excel\n",
        "data_path='C:/Users/Lina/PDS/PDS/voitures.csv'\n",
        "#transformer le fichier excel en dataframe\n",
        "df=pd.read_csv(data_path , sep=';')\n",
        "df"
      ]
    },
    {
      "cell_type": "code",
      "execution_count": null,
      "metadata": {
        "colab": {
          "base_uri": "https://localhost:8080/",
          "height": 457
        },
        "id": "wEcxamYakeVG",
        "outputId": "dafe0ecc-96f9-40d8-934a-2417dd3edd9c"
      },
      "outputs": [],
      "source": [
        "# suppression de la colonne matricule\n",
        "df.drop('Matricule', axis=1, errors='ignore',inplace=True)\n",
        "# transformation de la colonne date_circulation en age voiture\n",
        "df['Date de circulation'] = pd.to_datetime(df['Date de circulation'])\n",
        "\n",
        "df['AgeV'] = datetime.datetime.now().year - df['Date de circulation'].dt.year\n",
        "df"
      ]
    },
    {
      "cell_type": "code",
      "execution_count": null,
      "metadata": {
        "colab": {
          "base_uri": "https://localhost:8080/",
          "height": 457
        },
        "id": "UXZlg8t4otHD",
        "outputId": "23522728-ce02-4cb1-9f93-b653d451998e"
      },
      "outputs": [],
      "source": [
        "# suppression de la colonne date_circulation\n",
        "df = df.drop(columns=['Date de circulation'], axis=1)\n",
        "df"
      ]
    },
    {
      "cell_type": "code",
      "execution_count": 12,
      "metadata": {},
      "outputs": [],
      "source": [
        "df_copie = df"
      ]
    },
    {
      "cell_type": "code",
      "execution_count": null,
      "metadata": {},
      "outputs": [],
      "source": [
        "from sklearn.preprocessing import OneHotEncoder, MinMaxScaler\n",
        " #OHE data\n",
        " \n",
        "# one-hot encode  'Marque' \n",
        "encoder = OneHotEncoder(handle_unknown='ignore')\n",
        "encoder.fit(df[['Marque']])\n",
        "\n",
        "encoded = encoder.transform(df[['Marque']]).toarray()\n",
        "cols = encoder.get_feature_names_out(['Marque'])\n",
        "df_encoded = pd.DataFrame(encoded, columns=cols)\n",
        "\n",
        "# normalize the 'Kilometrage' and 'Cylindre' columns\n",
        "scaler = MinMaxScaler()\n",
        "df_normalized = pd.DataFrame(scaler.fit_transform(df[['Kilometrage', 'Cylindre','AgeV']]), columns=['Kilometrage', 'Cylindre','AgeV'])\n",
        "\n",
        "# combine the encoded and normalized DataFrames\n",
        "df_combined = pd.concat([df_encoded, df_normalized], axis=1)\n",
        "\n",
        "# print the resulting DataFrame\n",
        "print(df_combined)"
      ]
    },
    {
      "cell_type": "code",
      "execution_count": 14,
      "metadata": {},
      "outputs": [],
      "source": [
        "marque='FIAT'\n",
        "date_circulation=\"12/12/2022\"\n",
        "date_circulation=datetime.datetime.strptime(date_circulation,'%d/%m/%Y')  \n",
        "kilometrage=1200\n",
        "cylindre=1\n",
        "AgeV=datetime.datetime.now().year -date_circulation.year"
      ]
    },
    {
      "cell_type": "code",
      "execution_count": 15,
      "metadata": {},
      "outputs": [],
      "source": [
        "#on new row \n",
        "# create the new row\n",
        "new_rows = {'Marque': marque,'Kilometrage': kilometrage, 'Cylindre': cylindre, 'AgeV': AgeV}"
      ]
    },
    {
      "cell_type": "code",
      "execution_count": null,
      "metadata": {},
      "outputs": [],
      "source": [
        "\"\"\"\n",
        "new_cat= \"Marque_\"+marque\n",
        "new_cat\n",
        "if new_cat in df_combined.columns:\n",
        "    pass\n",
        "else:\n",
        "   new_row = {'Marque': marque,'Kilometrage': 0, 'Cylindre': 0, 'AgeV': 0}\n",
        "   df = df.append(new_row, ignore_index=True)\n",
        "   encoder = OneHotEncoder()\n",
        "   encoder.fit(df[['Marque']])\n",
        "\n",
        "   encoded = encoder.transform(df[['Marque']]).toarray()\n",
        "   cols = encoder.get_feature_names_out(['Marque'])\n",
        "   df_encoded = pd.DataFrame(encoded, columns=cols)\n",
        "\n",
        "    # normalize the 'Kilometrage' and 'Cylindre' columns\n",
        "   scaler = MinMaxScaler()\n",
        "   df_normalized = pd.DataFrame(scaler.fit_transform(df[['Kilometrage', 'Cylindre','AgeV']]), columns=['Kilometrage', 'Cylindre','AgeV'])\n",
        "\n",
        "    # combine the encoded and normalized DataFrames\n",
        "   df_combined = pd.concat([df_encoded, df_normalized], axis=1)\n",
        "\n",
        "    # print the resulting DataFrame\n",
        "   print(df_combined)\n",
        "    \n",
        "\n",
        "\"\"\"\n"
      ]
    },
    {
      "cell_type": "code",
      "execution_count": null,
      "metadata": {},
      "outputs": [],
      "source": [
        "df_combined"
      ]
    },
    {
      "cell_type": "code",
      "execution_count": 17,
      "metadata": {},
      "outputs": [],
      "source": [
        "# convert the new row to a DataFrame\n",
        "new_rowdf = pd.DataFrame([new_rows])\n",
        "\n"
      ]
    },
    {
      "cell_type": "code",
      "execution_count": 18,
      "metadata": {},
      "outputs": [],
      "source": [
        "# encode the new row\n",
        "encoded = encoder.transform(pd.DataFrame(new_rowdf, index=[0])[['Marque']]).toarray()"
      ]
    },
    {
      "cell_type": "code",
      "execution_count": 19,
      "metadata": {},
      "outputs": [
        {
          "data": {
            "text/plain": [
              "array([[0., 0., 0., 0., 0., 0., 0.]])"
            ]
          },
          "execution_count": 19,
          "metadata": {},
          "output_type": "execute_result"
        }
      ],
      "source": [
        "encoded"
      ]
    },
    {
      "cell_type": "code",
      "execution_count": 20,
      "metadata": {},
      "outputs": [],
      "source": [
        "# add the new row to the encoded and normalized dataframe\n",
        "new_row_df = pd.concat([pd.DataFrame(encoded, columns=cols), pd.DataFrame(scaler.transform(pd.DataFrame(new_rows, index=[0])[['Kilometrage', 'Cylindre', 'AgeV']]), columns=['Kilometrage', 'Cylindre', 'AgeV'])], axis=1)\n"
      ]
    },
    {
      "cell_type": "code",
      "execution_count": 21,
      "metadata": {},
      "outputs": [
        {
          "data": {
            "text/html": [
              "<div>\n",
              "<style scoped>\n",
              "    .dataframe tbody tr th:only-of-type {\n",
              "        vertical-align: middle;\n",
              "    }\n",
              "\n",
              "    .dataframe tbody tr th {\n",
              "        vertical-align: top;\n",
              "    }\n",
              "\n",
              "    .dataframe thead th {\n",
              "        text-align: right;\n",
              "    }\n",
              "</style>\n",
              "<table border=\"1\" class=\"dataframe\">\n",
              "  <thead>\n",
              "    <tr style=\"text-align: right;\">\n",
              "      <th></th>\n",
              "      <th>Marque_AUDI</th>\n",
              "      <th>Marque_BMW</th>\n",
              "      <th>Marque_BUGATTI</th>\n",
              "      <th>Marque_FERRARI</th>\n",
              "      <th>Marque_MERCEDES</th>\n",
              "      <th>Marque_PEUGEOT</th>\n",
              "      <th>Marque_VW</th>\n",
              "      <th>Kilometrage</th>\n",
              "      <th>Cylindre</th>\n",
              "      <th>AgeV</th>\n",
              "    </tr>\n",
              "  </thead>\n",
              "  <tbody>\n",
              "    <tr>\n",
              "      <th>0</th>\n",
              "      <td>0.0</td>\n",
              "      <td>0.0</td>\n",
              "      <td>0.0</td>\n",
              "      <td>0.0</td>\n",
              "      <td>0.0</td>\n",
              "      <td>0.0</td>\n",
              "      <td>0.0</td>\n",
              "      <td>-0.0176</td>\n",
              "      <td>-0.222222</td>\n",
              "      <td>0.142857</td>\n",
              "    </tr>\n",
              "  </tbody>\n",
              "</table>\n",
              "</div>"
            ],
            "text/plain": [
              "   Marque_AUDI  Marque_BMW  Marque_BUGATTI  Marque_FERRARI  Marque_MERCEDES  \\\n",
              "0          0.0         0.0             0.0             0.0              0.0   \n",
              "\n",
              "   Marque_PEUGEOT  Marque_VW  Kilometrage  Cylindre      AgeV  \n",
              "0             0.0        0.0      -0.0176 -0.222222  0.142857  "
            ]
          },
          "execution_count": 21,
          "metadata": {},
          "output_type": "execute_result"
        }
      ],
      "source": [
        "new_row_df"
      ]
    },
    {
      "cell_type": "code",
      "execution_count": 22,
      "metadata": {},
      "outputs": [
        {
          "data": {
            "text/html": [
              "<div>\n",
              "<style scoped>\n",
              "    .dataframe tbody tr th:only-of-type {\n",
              "        vertical-align: middle;\n",
              "    }\n",
              "\n",
              "    .dataframe tbody tr th {\n",
              "        vertical-align: top;\n",
              "    }\n",
              "\n",
              "    .dataframe thead th {\n",
              "        text-align: right;\n",
              "    }\n",
              "</style>\n",
              "<table border=\"1\" class=\"dataframe\">\n",
              "  <thead>\n",
              "    <tr style=\"text-align: right;\">\n",
              "      <th></th>\n",
              "      <th>Marque_AUDI</th>\n",
              "      <th>Marque_BMW</th>\n",
              "      <th>Marque_BUGATTI</th>\n",
              "      <th>Marque_FERRARI</th>\n",
              "      <th>Marque_MERCEDES</th>\n",
              "      <th>Marque_PEUGEOT</th>\n",
              "      <th>Marque_VW</th>\n",
              "      <th>Kilometrage</th>\n",
              "      <th>Cylindre</th>\n",
              "      <th>AgeV</th>\n",
              "    </tr>\n",
              "  </thead>\n",
              "  <tbody>\n",
              "    <tr>\n",
              "      <th>0</th>\n",
              "      <td>0.0</td>\n",
              "      <td>0.0</td>\n",
              "      <td>0.0</td>\n",
              "      <td>1.0</td>\n",
              "      <td>0.0</td>\n",
              "      <td>0.0</td>\n",
              "      <td>0.0</td>\n",
              "      <td>0.3800</td>\n",
              "      <td>1.000000</td>\n",
              "      <td>1.000000</td>\n",
              "    </tr>\n",
              "    <tr>\n",
              "      <th>1</th>\n",
              "      <td>0.0</td>\n",
              "      <td>0.0</td>\n",
              "      <td>0.0</td>\n",
              "      <td>0.0</td>\n",
              "      <td>0.0</td>\n",
              "      <td>1.0</td>\n",
              "      <td>0.0</td>\n",
              "      <td>1.0000</td>\n",
              "      <td>0.000000</td>\n",
              "      <td>0.857143</td>\n",
              "    </tr>\n",
              "    <tr>\n",
              "      <th>2</th>\n",
              "      <td>0.0</td>\n",
              "      <td>0.0</td>\n",
              "      <td>0.0</td>\n",
              "      <td>0.0</td>\n",
              "      <td>0.0</td>\n",
              "      <td>0.0</td>\n",
              "      <td>1.0</td>\n",
              "      <td>0.0400</td>\n",
              "      <td>0.333333</td>\n",
              "      <td>0.571429</td>\n",
              "    </tr>\n",
              "    <tr>\n",
              "      <th>3</th>\n",
              "      <td>0.0</td>\n",
              "      <td>0.0</td>\n",
              "      <td>0.0</td>\n",
              "      <td>0.0</td>\n",
              "      <td>0.0</td>\n",
              "      <td>1.0</td>\n",
              "      <td>0.0</td>\n",
              "      <td>0.1600</td>\n",
              "      <td>0.111111</td>\n",
              "      <td>0.428571</td>\n",
              "    </tr>\n",
              "    <tr>\n",
              "      <th>4</th>\n",
              "      <td>0.0</td>\n",
              "      <td>0.0</td>\n",
              "      <td>0.0</td>\n",
              "      <td>0.0</td>\n",
              "      <td>0.0</td>\n",
              "      <td>0.0</td>\n",
              "      <td>1.0</td>\n",
              "      <td>0.4400</td>\n",
              "      <td>0.111111</td>\n",
              "      <td>0.428571</td>\n",
              "    </tr>\n",
              "    <tr>\n",
              "      <th>5</th>\n",
              "      <td>0.0</td>\n",
              "      <td>1.0</td>\n",
              "      <td>0.0</td>\n",
              "      <td>0.0</td>\n",
              "      <td>0.0</td>\n",
              "      <td>0.0</td>\n",
              "      <td>0.0</td>\n",
              "      <td>0.0800</td>\n",
              "      <td>0.555556</td>\n",
              "      <td>0.428571</td>\n",
              "    </tr>\n",
              "    <tr>\n",
              "      <th>6</th>\n",
              "      <td>0.0</td>\n",
              "      <td>1.0</td>\n",
              "      <td>0.0</td>\n",
              "      <td>0.0</td>\n",
              "      <td>0.0</td>\n",
              "      <td>0.0</td>\n",
              "      <td>0.0</td>\n",
              "      <td>0.0046</td>\n",
              "      <td>0.555556</td>\n",
              "      <td>0.285714</td>\n",
              "    </tr>\n",
              "    <tr>\n",
              "      <th>7</th>\n",
              "      <td>1.0</td>\n",
              "      <td>0.0</td>\n",
              "      <td>0.0</td>\n",
              "      <td>0.0</td>\n",
              "      <td>0.0</td>\n",
              "      <td>0.0</td>\n",
              "      <td>0.0</td>\n",
              "      <td>0.1000</td>\n",
              "      <td>0.333333</td>\n",
              "      <td>0.285714</td>\n",
              "    </tr>\n",
              "    <tr>\n",
              "      <th>8</th>\n",
              "      <td>0.0</td>\n",
              "      <td>0.0</td>\n",
              "      <td>0.0</td>\n",
              "      <td>0.0</td>\n",
              "      <td>1.0</td>\n",
              "      <td>0.0</td>\n",
              "      <td>0.0</td>\n",
              "      <td>0.1800</td>\n",
              "      <td>0.555556</td>\n",
              "      <td>0.285714</td>\n",
              "    </tr>\n",
              "    <tr>\n",
              "      <th>9</th>\n",
              "      <td>0.0</td>\n",
              "      <td>0.0</td>\n",
              "      <td>0.0</td>\n",
              "      <td>0.0</td>\n",
              "      <td>1.0</td>\n",
              "      <td>0.0</td>\n",
              "      <td>0.0</td>\n",
              "      <td>0.3600</td>\n",
              "      <td>0.555556</td>\n",
              "      <td>0.285714</td>\n",
              "    </tr>\n",
              "    <tr>\n",
              "      <th>10</th>\n",
              "      <td>0.0</td>\n",
              "      <td>0.0</td>\n",
              "      <td>0.0</td>\n",
              "      <td>0.0</td>\n",
              "      <td>0.0</td>\n",
              "      <td>0.0</td>\n",
              "      <td>1.0</td>\n",
              "      <td>0.1300</td>\n",
              "      <td>0.333333</td>\n",
              "      <td>0.142857</td>\n",
              "    </tr>\n",
              "    <tr>\n",
              "      <th>11</th>\n",
              "      <td>0.0</td>\n",
              "      <td>0.0</td>\n",
              "      <td>1.0</td>\n",
              "      <td>0.0</td>\n",
              "      <td>0.0</td>\n",
              "      <td>0.0</td>\n",
              "      <td>0.0</td>\n",
              "      <td>0.0072</td>\n",
              "      <td>1.000000</td>\n",
              "      <td>0.142857</td>\n",
              "    </tr>\n",
              "    <tr>\n",
              "      <th>12</th>\n",
              "      <td>1.0</td>\n",
              "      <td>0.0</td>\n",
              "      <td>0.0</td>\n",
              "      <td>0.0</td>\n",
              "      <td>0.0</td>\n",
              "      <td>0.0</td>\n",
              "      <td>0.0</td>\n",
              "      <td>0.0000</td>\n",
              "      <td>0.555556</td>\n",
              "      <td>0.000000</td>\n",
              "    </tr>\n",
              "  </tbody>\n",
              "</table>\n",
              "</div>"
            ],
            "text/plain": [
              "    Marque_AUDI  Marque_BMW  Marque_BUGATTI  Marque_FERRARI  Marque_MERCEDES  \\\n",
              "0           0.0         0.0             0.0             1.0              0.0   \n",
              "1           0.0         0.0             0.0             0.0              0.0   \n",
              "2           0.0         0.0             0.0             0.0              0.0   \n",
              "3           0.0         0.0             0.0             0.0              0.0   \n",
              "4           0.0         0.0             0.0             0.0              0.0   \n",
              "5           0.0         1.0             0.0             0.0              0.0   \n",
              "6           0.0         1.0             0.0             0.0              0.0   \n",
              "7           1.0         0.0             0.0             0.0              0.0   \n",
              "8           0.0         0.0             0.0             0.0              1.0   \n",
              "9           0.0         0.0             0.0             0.0              1.0   \n",
              "10          0.0         0.0             0.0             0.0              0.0   \n",
              "11          0.0         0.0             1.0             0.0              0.0   \n",
              "12          1.0         0.0             0.0             0.0              0.0   \n",
              "\n",
              "    Marque_PEUGEOT  Marque_VW  Kilometrage  Cylindre      AgeV  \n",
              "0              0.0        0.0       0.3800  1.000000  1.000000  \n",
              "1              1.0        0.0       1.0000  0.000000  0.857143  \n",
              "2              0.0        1.0       0.0400  0.333333  0.571429  \n",
              "3              1.0        0.0       0.1600  0.111111  0.428571  \n",
              "4              0.0        1.0       0.4400  0.111111  0.428571  \n",
              "5              0.0        0.0       0.0800  0.555556  0.428571  \n",
              "6              0.0        0.0       0.0046  0.555556  0.285714  \n",
              "7              0.0        0.0       0.1000  0.333333  0.285714  \n",
              "8              0.0        0.0       0.1800  0.555556  0.285714  \n",
              "9              0.0        0.0       0.3600  0.555556  0.285714  \n",
              "10             0.0        1.0       0.1300  0.333333  0.142857  \n",
              "11             0.0        0.0       0.0072  1.000000  0.142857  \n",
              "12             0.0        0.0       0.0000  0.555556  0.000000  "
            ]
          },
          "execution_count": 22,
          "metadata": {},
          "output_type": "execute_result"
        }
      ],
      "source": [
        "df_combined"
      ]
    },
    {
      "cell_type": "code",
      "execution_count": 28,
      "metadata": {},
      "outputs": [
        {
          "name": "stdout",
          "output_type": "stream",
          "text": [
            "    Marque_AUDI  Marque_BMW  Marque_BUGATTI  Marque_FERRARI  Marque_MERCEDES  \\\n",
            "0           0.0         0.0             0.0             1.0              0.0   \n",
            "1           0.0         0.0             0.0             0.0              0.0   \n",
            "2           0.0         0.0             0.0             0.0              0.0   \n",
            "3           0.0         0.0             0.0             0.0              0.0   \n",
            "4           0.0         0.0             0.0             0.0              0.0   \n",
            "5           0.0         1.0             0.0             0.0              0.0   \n",
            "6           0.0         1.0             0.0             0.0              0.0   \n",
            "7           1.0         0.0             0.0             0.0              0.0   \n",
            "8           0.0         0.0             0.0             0.0              1.0   \n",
            "9           0.0         0.0             0.0             0.0              1.0   \n",
            "10          0.0         0.0             0.0             0.0              0.0   \n",
            "11          0.0         0.0             1.0             0.0              0.0   \n",
            "12          1.0         0.0             0.0             0.0              0.0   \n",
            "13          0.0         0.0             0.0             0.0              0.0   \n",
            "14          0.0         0.0             0.0             0.0              0.0   \n",
            "\n",
            "    Marque_PEUGEOT  Marque_VW  Kilometrage  Cylindre      AgeV  Marque_FIAT  \n",
            "0              0.0        0.0       0.3800  1.000000  1.000000          0.0  \n",
            "1              1.0        0.0       1.0000  0.000000  0.857143          0.0  \n",
            "2              0.0        1.0       0.0400  0.333333  0.571429          0.0  \n",
            "3              1.0        0.0       0.1600  0.111111  0.428571          0.0  \n",
            "4              0.0        1.0       0.4400  0.111111  0.428571          0.0  \n",
            "5              0.0        0.0       0.0800  0.555556  0.428571          0.0  \n",
            "6              0.0        0.0       0.0046  0.555556  0.285714          0.0  \n",
            "7              0.0        0.0       0.1000  0.333333  0.285714          0.0  \n",
            "8              0.0        0.0       0.1800  0.555556  0.285714          0.0  \n",
            "9              0.0        0.0       0.3600  0.555556  0.285714          0.0  \n",
            "10             0.0        1.0       0.1300  0.333333  0.142857          0.0  \n",
            "11             0.0        0.0       0.0072  1.000000  0.142857          0.0  \n",
            "12             0.0        0.0       0.0000  0.555556  0.000000          0.0  \n",
            "13             0.0        0.0      -0.0176 -0.222222  0.142857          NaN  \n",
            "14             0.0        0.0      -0.0176 -0.222222  0.142857          1.0  \n"
          ]
        }
      ],
      "source": [
        "df_combined = pd.concat([df_combined, new_row_df], ignore_index=True)\n",
        "\n",
        "# print the resulting DataFrame\n",
        "print(df_combined)"
      ]
    },
    {
      "cell_type": "code",
      "execution_count": 86,
      "metadata": {},
      "outputs": [
        {
          "data": {
            "text/plain": [
              "Marque_AUDI        0.000000\n",
              "Marque_BMW         0.000000\n",
              "Marque_BUGATTI     0.000000\n",
              "Marque_FERRARI     0.000000\n",
              "Marque_FIAT        0.000000\n",
              "Marque_MERCEDES    0.000000\n",
              "Marque_PEUGEOT     1.000000\n",
              "Marque_VW          0.000000\n",
              "Kilometrage        1.000000\n",
              "Cylindre           0.250000\n",
              "AgeV               0.857143\n",
              "Name: 1, dtype: float64"
            ]
          },
          "execution_count": 86,
          "metadata": {},
          "output_type": "execute_result"
        }
      ],
      "source": [
        "# define the first row in the df_combined DataFrame\n"
      ]
    },
    {
      "cell_type": "code",
      "execution_count": 24,
      "metadata": {},
      "outputs": [
        {
          "data": {
            "text/plain": [
              "Marque_AUDI        0.000000\n",
              "Marque_BMW         0.000000\n",
              "Marque_BUGATTI     0.000000\n",
              "Marque_FERRARI     0.000000\n",
              "Marque_MERCEDES    0.000000\n",
              "Marque_PEUGEOT     0.000000\n",
              "Marque_VW          0.000000\n",
              "Kilometrage       -0.017600\n",
              "Cylindre          -0.222222\n",
              "AgeV               0.142857\n",
              "Name: 0, dtype: float64"
            ]
          },
          "execution_count": 24,
          "metadata": {},
          "output_type": "execute_result"
        }
      ],
      "source": [
        "new_row=new_row_df.iloc[0]\n",
        "new_row"
      ]
    },
    {
      "cell_type": "code",
      "execution_count": 25,
      "metadata": {},
      "outputs": [
        {
          "name": "stdout",
          "output_type": "stream",
          "text": [
            "1.8402735660887073\n",
            "1.610930339177345\n",
            "1.2229608353076549\n",
            "1.1064743667036918\n",
            "1.1841205699473072\n",
            "1.3023427677328894\n",
            "1.275084026592069\n",
            "1.158826949364722\n",
            "1.2901132488546285\n",
            "1.329634609533854\n",
            "1.1534416913345218\n",
            "1.5793803216748736\n",
            "1.275012233223762\n"
          ]
        }
      ],
      "source": [
        "for i in range(len(df_combined)):\n",
        "    first_row = df_combined.iloc[i]\n",
        "    first_row\n",
        "    # calculate the Euclidean distance between the first row and the new row\n",
        "    distance = np.sqrt(np.sum((first_row - new_row)**2))\n",
        "    print(distance)"
      ]
    },
    {
      "cell_type": "code",
      "execution_count": 93,
      "metadata": {},
      "outputs": [
        {
          "data": {
            "text/plain": [
              "1.879702506618978"
            ]
          },
          "execution_count": 93,
          "metadata": {},
          "output_type": "execute_result"
        }
      ],
      "source": [
        "distance"
      ]
    },
    {
      "cell_type": "code",
      "execution_count": null,
      "metadata": {},
      "outputs": [],
      "source": [
        "# find the indices of the closest cars\n",
        "closest_indices = distances.argsort()\n",
        "\n",
        "# print the top 3 closest cars\n",
        "print('Top 3 closest cars:')\n",
        "for i in range(3):\n",
        "    index = closest_indices[i]\n",
        "    closest_car = df.iloc[index]\n",
        "    print(f'{i+1}. {closest_car[\"Marque\"]}, Kilometrage: {closest_car[\"Kilometrage\"]}, Cylindre: {closest_car[\"Cylindre\"]}, Distance: {distances[index]}')\n"
      ]
    }
  ],
  "metadata": {
    "colab": {
      "provenance": [],
      "toc_visible": true
    },
    "kernelspec": {
      "display_name": "Python 3",
      "name": "python3"
    },
    "language_info": {
      "codemirror_mode": {
        "name": "ipython",
        "version": 3
      },
      "file_extension": ".py",
      "mimetype": "text/x-python",
      "name": "python",
      "nbconvert_exporter": "python",
      "pygments_lexer": "ipython3",
      "version": "3.11.2"
    }
  },
  "nbformat": 4,
  "nbformat_minor": 0
}
