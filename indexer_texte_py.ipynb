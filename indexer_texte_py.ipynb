{
  "cells": [
    {
      "cell_type": "code",
      "execution_count": 24,
      "metadata": {
        "id": "PAScwQGCWy69"
      },
      "outputs": [],
      "source": [
        "import nltk\n",
        "from nltk.corpus import stopwords\n",
        "from collections import Counter\n",
        "from nltk.tokenize import word_tokenize\n",
        "import pandas as pd\n",
        "import os\n",
        "from sklearn.feature_extraction.text import CountVectorizer"
      ]
    },
    {
      "cell_type": "code",
      "execution_count": 3,
      "metadata": {
        "id": "uon6uPF1Bh8t"
      },
      "outputs": [
        {
          "data": {
            "text/plain": [
              "['v1.txt', 'v2.txt', 'v3.txt', 'v4.txt', 'v5.txt', 'v6.txt']"
            ]
          },
          "execution_count": 3,
          "metadata": {},
          "output_type": "execute_result"
        }
      ],
      "source": [
        "dir_path = os.getcwd()\n",
        "data_path=dir_path+'\\\\Desc_voiture'\n",
        "nameslist = os.listdir(data_path)\n",
        "nameslist"
      ]
    },
    {
      "cell_type": "code",
      "execution_count": 11,
      "metadata": {},
      "outputs": [
        {
          "data": {
            "text/plain": [
              "['c:\\\\Users\\\\Lina\\\\PDS\\\\PDS\\\\Desc_voiture\\\\v1.txt',\n",
              " 'c:\\\\Users\\\\Lina\\\\PDS\\\\PDS\\\\Desc_voiture\\\\v2.txt',\n",
              " 'c:\\\\Users\\\\Lina\\\\PDS\\\\PDS\\\\Desc_voiture\\\\v3.txt',\n",
              " 'c:\\\\Users\\\\Lina\\\\PDS\\\\PDS\\\\Desc_voiture\\\\v4.txt',\n",
              " 'c:\\\\Users\\\\Lina\\\\PDS\\\\PDS\\\\Desc_voiture\\\\v5.txt',\n",
              " 'c:\\\\Users\\\\Lina\\\\PDS\\\\PDS\\\\Desc_voiture\\\\v6.txt']"
            ]
          },
          "execution_count": 11,
          "metadata": {},
          "output_type": "execute_result"
        }
      ],
      "source": [
        "Paths=[]\n",
        "for name in nameslist:\n",
        "   \n",
        "   text_path = os.path.join(data_path, name) \n",
        "   Paths.append(text_path)\n",
        "Paths"
      ]
    },
    {
      "cell_type": "code",
      "execution_count": 12,
      "metadata": {
        "id": "obEDOZriIivo"
      },
      "outputs": [],
      "source": [
        "Corpus = []\n",
        "for path in Paths:\n",
        "    file = open(path, 'r',encoding='utf-8')\n",
        "    text = file.read()\n",
        "    text=text.lower()\n",
        "    file.close()\n",
        "    Corpus.append(text)"
      ]
    },
    {
      "cell_type": "code",
      "execution_count": 13,
      "metadata": {},
      "outputs": [
        {
          "data": {
            "text/plain": [
              "[\"2018 honda civic lx avec seulement 20 000 miles au compteur ! cette voiture est en excellent état et a été régulièrement entretenue. elle est équipée d'un moteur 4-cylindres de 2,0 l et d'une transmission à variation continue (cvt).\",\n",
              " \"2016 ford escape se avec seulement 30 000 miles au compteur ! ce suv est en très bon état et a été soigneusement entretenu. il dispose d'un moteur ecoboost 4-cylindres de 1,6 l et d'une transmission automatique à 6 vitesses.\",\n",
              " \"2017 chevrolet malibu lt avec 45 000 miles. cette voiture est en excellent état et a été bien entretenue. elle est équipée d'un moteur turbocompressé de 1,5 l et d'une transmission automatique à 6 vitesses.\",\n",
              " \"2014 nissan altima 2.5 s avec seulement 25 000 miles au compteur ! cette voiture est en excellent état et a été régulièrement entretenue. elle est équipée d'un moteur 4-cylindres de 2,5 l et d'une transmission à variation continue (cvt).\",\n",
              " \"2019 toyota rav4 xle avec seulement 15 000 miles au compteur ! ce suv est en excellent état et a été méticuleusement entretenu. il dispose d'un moteur 4-cylindres de 2,5 l et d'une transmission automatique à 8 vitesses.\",\n",
              " \"2015 honda accord sport avec 35 000 miles. cette voiture est en très bon état et a été régulièrement entretenue. elle est équipée d'un moteur 4-cylindres de 2,4 l et d'une transmission à variation continue (cvt).\"]"
            ]
          },
          "execution_count": 13,
          "metadata": {},
          "output_type": "execute_result"
        }
      ],
      "source": [
        "Corpus"
      ]
    },
    {
      "cell_type": "code",
      "execution_count": 14,
      "metadata": {
        "colab": {
          "base_uri": "https://localhost:8080/"
        },
        "id": "OyPGeKd6IixN",
        "outputId": "ac53ba39-fa60-4846-a14b-5d0334bf9db9"
      },
      "outputs": [
        {
          "name": "stderr",
          "output_type": "stream",
          "text": [
            "[nltk_data] Downloading package stopwords to\n",
            "[nltk_data]     C:\\Users\\Lina\\AppData\\Roaming\\nltk_data...\n",
            "[nltk_data]   Unzipping corpora\\stopwords.zip.\n"
          ]
        }
      ],
      "source": [
        "# Importer les stopwords de la langue anglaise\n",
        "nltk.download('stopwords')\n",
        "stop_words = set(stopwords.words('french'))"
      ]
    },
    {
      "cell_type": "code",
      "execution_count": 15,
      "metadata": {
        "colab": {
          "base_uri": "https://localhost:8080/"
        },
        "id": "8QKusGGaItFD",
        "outputId": "71a2267a-3de9-4e5a-bfca-a193831f722e"
      },
      "outputs": [
        {
          "name": "stderr",
          "output_type": "stream",
          "text": [
            "[nltk_data] Downloading package punkt to\n",
            "[nltk_data]     C:\\Users\\Lina\\AppData\\Roaming\\nltk_data...\n",
            "[nltk_data]   Unzipping tokenizers\\punkt.zip.\n"
          ]
        },
        {
          "data": {
            "text/plain": [
              "True"
            ]
          },
          "execution_count": 15,
          "metadata": {},
          "output_type": "execute_result"
        }
      ],
      "source": [
        "nltk.download('punkt')"
      ]
    },
    {
      "cell_type": "code",
      "execution_count": 34,
      "metadata": {},
      "outputs": [],
      "source": [
        "def segmenter(document):\n",
        "    tokens = nltk.word_tokenize(document.lower())\n",
        "    return [token for token in tokens if token not in stop_words and token.isalpha()]\n"
      ]
    },
    {
      "cell_type": "code",
      "execution_count": 42,
      "metadata": {},
      "outputs": [
        {
          "name": "stderr",
          "output_type": "stream",
          "text": [
            "c:\\Users\\Lina\\AppData\\Local\\Programs\\Python\\Python311\\Lib\\site-packages\\sklearn\\feature_extraction\\text.py:528: UserWarning: The parameter 'token_pattern' will not be used since 'tokenizer' is not None'\n",
            "  warnings.warn(\n"
          ]
        }
      ],
      "source": [
        "cv = CountVectorizer(tokenizer=segmenter)\n",
        "cv.fit(Corpus)\n",
        "X = cv.transform(Corpus)"
      ]
    },
    {
      "cell_type": "code",
      "execution_count": 44,
      "metadata": {},
      "outputs": [
        {
          "name": "stdout",
          "output_type": "stream",
          "text": [
            "{'honda': 19, 'civic': 8, 'lx': 21, 'seulement': 28, 'miles': 23, 'compteur': 9, 'cette': 6, 'voiture': 38, 'excellent': 17, 'état': 41, 'a': 0, 'régulièrement': 27, 'entretenue': 15, 'équipée': 40, 'moteur': 24, 'transmission': 33, 'variation': 36, 'continue': 10, 'cvt': 11, 'ford': 18, 'escape': 16, 'suv': 31, 'très': 34, 'bon': 5, 'soigneusement': 29, 'entretenu': 14, 'dispose': 12, 'ecoboost': 13, 'automatique': 3, 'vitesses': 37, 'chevrolet': 7, 'malibu': 22, 'lt': 20, 'bien': 4, 'turbocompressé': 35, 'nissan': 26, 'altima': 2, 'toyota': 32, 'xle': 39, 'méticuleusement': 25, 'accord': 1, 'sport': 30}\n",
            "[[1 0 0 0 0 0 1 0 1 1 1 1 0 0 0 1 0 1 0 1 0 1 0 1 1 0 0 1 1 0 0 0 0 1 0 0\n",
            "  1 0 1 0 1 1]\n",
            " [1 0 0 1 0 1 0 0 0 1 0 0 1 1 1 0 1 0 1 0 0 0 0 1 1 0 0 0 1 1 0 1 0 1 1 0\n",
            "  0 1 0 0 0 1]\n",
            " [1 0 0 1 1 0 1 1 0 0 0 0 0 0 0 1 0 1 0 0 1 0 1 1 1 0 0 0 0 0 0 0 0 1 0 1\n",
            "  0 1 1 0 1 1]\n",
            " [1 0 1 0 0 0 1 0 0 1 1 1 0 0 0 1 0 1 0 0 0 0 0 1 1 0 1 1 1 0 0 0 0 1 0 0\n",
            "  1 0 1 0 1 1]\n",
            " [1 0 0 1 0 0 0 0 0 1 0 0 1 0 1 0 0 1 0 0 0 0 0 1 1 1 0 0 1 0 0 1 1 1 0 0\n",
            "  0 1 0 1 0 1]\n",
            " [1 1 0 0 0 1 1 0 0 0 1 1 0 0 0 1 0 0 0 1 0 0 0 1 1 0 0 1 0 0 1 0 0 1 1 0\n",
            "  1 0 1 0 1 1]]\n"
          ]
        }
      ],
      "source": [
        "print(cv.vocabulary_)\n",
        "print(X.toarray())"
      ]
    },
    {
      "cell_type": "code",
      "execution_count": 46,
      "metadata": {},
      "outputs": [
        {
          "name": "stdout",
          "output_type": "stream",
          "text": [
            "[[0 0 0 0 0 0 0 0 0 0 0 0 0 0 0 0 0 0 0 1 0 0 0 0 0 0 0 0 0 0 0 0 0 0 0 0\n",
            "  0 0 0 0 0 0]]\n"
          ]
        }
      ],
      "source": [
        "new_text = 'This honda has great fuel efficiency.'\n",
        "new_text_vector = cv.transform([new_text])\n",
        "\n",
        "# the vector is a sparse matrix, so we convert it to a dense numpy array\n",
        "dense_vector = new_text_vector.toarray()\n",
        "\n",
        "print(dense_vector)"
      ]
    }
  ],
  "metadata": {
    "colab": {
      "provenance": []
    },
    "kernelspec": {
      "display_name": "Python 3",
      "name": "python3"
    },
    "language_info": {
      "codemirror_mode": {
        "name": "ipython",
        "version": 3
      },
      "file_extension": ".py",
      "mimetype": "text/x-python",
      "name": "python",
      "nbconvert_exporter": "python",
      "pygments_lexer": "ipython3",
      "version": "3.11.2"
    }
  },
  "nbformat": 4,
  "nbformat_minor": 0
}
